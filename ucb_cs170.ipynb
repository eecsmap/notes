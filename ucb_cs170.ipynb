{
 "cells": [
  {
   "cell_type": "markdown",
   "metadata": {},
   "source": [
    "# UCB CS170 - Efficient Algorithms and Intractable Problems\n"
   ]
  },
  {
   "cell_type": "markdown",
   "metadata": {},
   "source": [
    "$$1 \\ll n = 2 ^ n$$\n",
    "$$n \\ll 1 = 2n$$\n",
    "$$n \\gg 1 = \\lfloor \\frac{n}{2.0} \\rfloor$$\n",
    "算术右移等于除以2向下取整，$(-3) \\gg 1 = (-2)$, $3 \\gg 1 = 1$\n",
    "\n",
    "然而C++的“整数/2”是“除以2向零取整”，即$(-3)/2 = -1$, $3/2=1$\n",
    "\n",
    "python的$-3//2 = -2$, $3//2=1$，$-3//-2 = 1$, $3/-2 = -2$, 即余数跟除数符号相同，$|r| < |q|$, 看起来更为合理。\n",
    "\n",
    "\n",
    "\n",
    "\n"
   ]
  },
  {
   "cell_type": "code",
   "execution_count": null,
   "metadata": {},
   "outputs": [],
   "source": [
    "'''\n",
    "\n",
    "#include <stdio.h>\n",
    "\n",
    "int main()\n",
    "{\n",
    "    int a = 5;\n",
    "    int b = 2;\n",
    "    printf(\"%d / %d = %d\\n\", a, b, a / b); \n",
    "    printf(\"%d %% %d = %d\\n\", a, b, a % b); \n",
    "    printf(\"%d / %d = %d\\n\", -a, b, -a / b); \n",
    "    printf(\"%d %% %d = %d\\n\", -a, b, -a % b); \n",
    "    printf(\"%d / %d = %d\\n\", a, -b, a / -b);\n",
    "    printf(\"%d %% %d = %d\\n\", a, -b, a % -b);\n",
    "    printf(\"%d / %d = %d\\n\", -a, -b, -a / -b);\n",
    "    printf(\"%d %% %d = %d\\n\", -a, -b, -a % -b);\n",
    "}\n",
    "/*\n",
    "5 / 2 = 2\n",
    "5 % 2 = 1\n",
    "-5 / 2 = -2\n",
    "-5 % 2 = -1\n",
    "5 / -2 = -2\n",
    "5 % -2 = 1\n",
    "-5 / -2 = 2\n",
    "-5 % -2 = -1\n",
    "*/\n",
    "\n",
    "'''"
   ]
  },
  {
   "cell_type": "code",
   "execution_count": 1,
   "metadata": {},
   "outputs": [
    {
     "name": "stdout",
     "output_type": "stream",
     "text": [
      "5 / 2 = 2\n",
      "5 % 2 = 1\n",
      "-5 / 2 = -3\n",
      "-5 % 2 = 1\n",
      "5 / -2 = -3\n",
      "5 % -2 = -1\n",
      "-5 / -2 = 2\n",
      "-5 % -2 = -1\n"
     ]
    }
   ],
   "source": [
    "for a, b in [(5, 2), (-5, 2), (5, -2), (-5, -2)]:\n",
    "    print(f'{a} / {b} = {a//b}')\n",
    "    print(f'{a} % {b} = {a%b}')"
   ]
  },
  {
   "cell_type": "code",
   "execution_count": 21,
   "metadata": {},
   "outputs": [
    {
     "data": {
      "text/plain": [
       "1"
      ]
     },
     "execution_count": 21,
     "metadata": {},
     "output_type": "execute_result"
    }
   ],
   "source": [
    "def power_modulo(a, b, p):\n",
    "    '''\n",
    "    >>> power_modulo(3, 4, 5)\n",
    "    1\n",
    "    '''\n",
    "    # a ** 0b1010 = a ** 0b1000 * a ** 0b0010 = a ** (2 ** 3) * a ** (2 ** 1)\n",
    "    ans = 1\n",
    "    factor = a\n",
    "    while b:\n",
    "        if b & 1:\n",
    "            ans *= factor % p\n",
    "        b >>= 1\n",
    "        factor = factor * factor % p\n",
    "    return ans\n",
    "\n",
    "power_modulo(3, 4, 5)\n",
    "#power_modulo(10, 7, 5)"
   ]
  },
  {
   "cell_type": "code",
   "execution_count": null,
   "metadata": {},
   "outputs": [],
   "source": [
    "def multiple(a, b, p):\n",
    "    ans = 0\n",
    "    term = a\n",
    "    while b:\n",
    "        if b & 1:\n",
    "            ans = (ans + term) % p\n",
    "        b >> 1\n",
    "        term = term * 2 % p\n",
    "    return ans\n"
   ]
  },
  {
   "cell_type": "code",
   "execution_count": null,
   "metadata": {},
   "outputs": [],
   "source": []
  }
 ],
 "metadata": {
  "interpreter": {
   "hash": "b460384b52104c1e5b9cf54bee46a255d22b2bef338f75ac4ad5d48196028d3c"
  },
  "kernelspec": {
   "display_name": "Python 3.10.2 64-bit",
   "language": "python",
   "name": "python3"
  },
  "language_info": {
   "codemirror_mode": {
    "name": "ipython",
    "version": 3
   },
   "file_extension": ".py",
   "mimetype": "text/x-python",
   "name": "python",
   "nbconvert_exporter": "python",
   "pygments_lexer": "ipython3",
   "version": "3.10.2"
  },
  "orig_nbformat": 4
 },
 "nbformat": 4,
 "nbformat_minor": 2
}
