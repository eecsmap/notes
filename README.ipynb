{
 "cells": [
  {
   "cell_type": "markdown",
   "metadata": {},
   "source": [
    "I am trying to create my first `README.ipynb`\n",
    "\n",
    "I just create an empty README.ipynb using command:\n",
    "```touch README.ipynb```\n",
    "\n",
    "Then launch visual code:\n",
    "```code .```\n",
    "\n",
    "After I clicking on `README.ipynb` magically this editor view for `.ipynb` file show up!"
   ]
  },
  {
   "cell_type": "markdown",
   "metadata": {},
   "source": [
    "- 所以我其实可以创建一个[线性代数笔记页](mit_18.06.ipynb)\n",
    "- 一个[离散数学笔记页](ucb_cs70.ipynb)\n",
    "\n",
    "然后创建一个链接到[nbviewer](https://nbviewer.org/github/eecsmap/notes/blob/master/README.ipynb)\n",
    "这样上面的链接就可以直接在nbviewer里打开啦～\n",
    "\n",
    "创建一个[模版](template_note.ipynb)会比较方便吧\n",
    "\n",
    "[git](git.ipynb)\n",
    "\n",
    "CS - Core\n",
    "- [ucb_cs61a](ucb_cs61a.ipynb)\n",
    "- [ucb_cs61b](ucb_cs61b.ipynb)\n",
    "- [ucb_cs61c](ucb_cs61c.ipynb)\n",
    "- [ucb_cs70](ucb_cs70.ipynb)\n",
    "\n",
    "CS - Hardware\n",
    "- [ucb_cs150](ucb_cs150.ipynb)\n",
    "- [ucb_cs151](ucb_cs151.ipynb)\n",
    "- [ucb_cs152](ucb_cs152.ipynb)\n",
    "\n",
    "CS - Software\n",
    "- [ucb_cs160](ucb_cs160.ipynb)\n",
    "- [ucb_cs161](ucb_cs161.ipynb)\n",
    "- [ucb_cs162](ucb_cs162.ipynb)\n",
    "- [ucb_cs164](ucb_cs164.ipynb)\n",
    "- [ucb_cs168](ucb_cs168.ipynb)\n",
    "- [ucb_cs169](ucb_cs169.ipynb)\n",
    "\n",
    "CS - Theory\n",
    "- [ucb_cs170](ucb_cs170.ipynb)\n",
    "- [ucb_cs172](ucb_cs172.ipynb)\n",
    "- [ucb_cs174](ucb_cs174.ipynb)\n",
    "- [ucb_cs176](ucb_cs176.ipynb)\n",
    "  \n",
    "CS - Applications\n",
    "- [ucb_cs184](ucb_cs184.ipynb)\n",
    "- [ucb_cs186](ucb_cs186.ipynb)\n",
    "- [ucb_cs188](ucb_cs188.ipynb)\n",
    "- [ucb_cs189](ucb_cs189.ipynb)\n",
    "  \n",
    "EE - Core\n",
    "- [ucb_eecs16a](ucb_eecs16a.ipynb)\n",
    "- [ucb_eecs16b](ucb_eecs16b.ipynb)\n",
    "\n",
    "EE - Signals\n",
    "- [ucb_ee120](ucb_ee120.ipynb)\n",
    "- [ucb_ee123](ucb_ee123.ipynb)\n",
    "- [ucb_ee126](ucb_ee126.ipynb)\n",
    "\n",
    "EE - Robotics\n",
    "- [ucb_eecsC106AB](ucb_eecsc106ab.ipynb)\n",
    "- [ucb_ee144]()\n",
    "- [ucb_eeC145L]()\n",
    "- [ucb_ee128]()\n",
    "- [ucb_ee149]()\n",
    "- [ucb_ee192]()\n",
    "\n",
    "Math & Physics\n",
    "- [ucb_math1a](ucb_math1a.ipynb)\n",
    "- [ucb_math1b](ucb_math1b.ipynb)\n",
    "- [ucb_math53](ucb_math53.ipynb)\n",
    "- [ucb_math54](ucb_math54.ipynb)\n",
    "- [ucb_physics7abc](ucb_physics7abc.ipynb)"
   ]
  }
 ],
 "metadata": {
  "interpreter": {
   "hash": "b460384b52104c1e5b9cf54bee46a255d22b2bef338f75ac4ad5d48196028d3c"
  },
  "kernelspec": {
   "display_name": "Python 3.10.0 64-bit",
   "language": "python",
   "name": "python3"
  },
  "language_info": {
   "codemirror_mode": {
    "name": "ipython",
    "version": 3
   },
   "file_extension": ".py",
   "mimetype": "text/x-python",
   "name": "python",
   "nbconvert_exporter": "python",
   "pygments_lexer": "ipython3",
   "version": "3.10.2"
  },
  "orig_nbformat": 4
 },
 "nbformat": 4,
 "nbformat_minor": 2
}
