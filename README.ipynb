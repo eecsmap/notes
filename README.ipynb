{
 "cells": [
  {
   "cell_type": "markdown",
   "metadata": {},
   "source": [
    "I am trying to create my first `README.ipynb`\n",
    "\n",
    "I just create an empty README.ipynb using command:\n",
    "```touch README.ipynb```\n",
    "\n",
    "Then launch visual code:\n",
    "```code .```\n",
    "\n",
    "After I clicking on `README.ipynb` magically this editor view for `.ipynb` file show up!"
   ]
  },
  {
   "cell_type": "markdown",
   "metadata": {},
   "source": [
    "- 所以我其实可以创建一个[线性代数笔记页](mit_18.06.ipynb)\n",
    "- 一个[离散数学笔记页](ucb_cs70.ipynb)\n",
    "\n",
    "然后创建一个链接到[nbviewer](https://nbviewer.org/github/eecsmap/notes/blob/master/README.ipynb)\n",
    "这样上面的链接就可以直接在nbviewer里打开啦～\n",
    "\n",
    "创建一个[模版](template_note.ipynb)会比较方便吧\n"
   ]
  }
 ],
 "metadata": {
  "interpreter": {
   "hash": "b460384b52104c1e5b9cf54bee46a255d22b2bef338f75ac4ad5d48196028d3c"
  },
  "kernelspec": {
   "display_name": "Python 3.10.0 64-bit",
   "language": "python",
   "name": "python3"
  },
  "language_info": {
   "codemirror_mode": {
    "name": "ipython",
    "version": 3
   },
   "file_extension": ".py",
   "mimetype": "text/x-python",
   "name": "python",
   "nbconvert_exporter": "python",
   "pygments_lexer": "ipython3",
   "version": "3.10.2"
  },
  "orig_nbformat": 4
 },
 "nbformat": 4,
 "nbformat_minor": 2
}
