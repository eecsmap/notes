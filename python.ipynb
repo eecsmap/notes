{
 "cells": [
  {
   "cell_type": "markdown",
   "metadata": {},
   "source": [
    "# Doubly linked list"
   ]
  },
  {
   "cell_type": "code",
   "execution_count": 11,
   "metadata": {},
   "outputs": [],
   "source": [
    "# doubly linked list\n",
    "\n",
    "class Node:\n",
    "    def __init__(self, value, prev=None, next=None):\n",
    "        self.value = value\n",
    "        self.prev = prev\n",
    "        self.next = next\n",
    "\n",
    "class DoublyLinkedList:\n",
    "    def __init__(self):\n",
    "        self.head = None\n",
    "        self.tail = None\n",
    "    def push(self, value):\n",
    "        self.tail = Node(value, self.tail, self.tail.next if self.tail else None)\n",
    "        if self.head == None:\n",
    "            self.head = self.tail"
   ]
  },
  {
   "cell_type": "code",
   "execution_count": 15,
   "metadata": {},
   "outputs": [
    {
     "data": {
      "text/plain": [
       "3.4544982190127485"
      ]
     },
     "execution_count": 15,
     "metadata": {},
     "output_type": "execute_result"
    }
   ],
   "source": [
    "a_list = DoublyLinkedList()\n",
    "import timeit\n",
    "timeit.timeit(\"a_list.push(1)\", setup=\"alist = DoublyLinkedList()\", globals=globals())"
   ]
  },
  {
   "cell_type": "markdown",
   "metadata": {},
   "source": [
    "# Performance\n",
    "在Python里如何测量代码的性能？\n",
    "\n"
   ]
  },
  {
   "cell_type": "code",
   "execution_count": 16,
   "metadata": {},
   "outputs": [],
   "source": [
    "class Stack:\n",
    "\n",
    "    def __init__(self):\n",
    "        self.data = []\n",
    "\n",
    "    def push(self, value):\n",
    "        self.data.append(value)\n",
    "\n",
    "    def pop(self):\n",
    "        return self.data.pop()\n",
    "\n",
    "    def is_empty(self):\n",
    "        return not bool(self.data)"
   ]
  },
  {
   "cell_type": "code",
   "execution_count": 129,
   "metadata": {},
   "outputs": [],
   "source": [
    "class Queue:\n",
    "    '''\n",
    "    Implemented using a circular linked list.\n",
    "    '''\n",
    "    class Node:\n",
    "        def __init__(self, value, next=None):\n",
    "            self.value = value\n",
    "            self.next = next\n",
    "\n",
    "    def __init__(self):\n",
    "        self.tail = None\n",
    "\n",
    "    def push(self, value):\n",
    "        assert not self.tail or self.tail.next, f'invariant violation before push({value})'\n",
    "        if self.tail:\n",
    "            self.tail.next = Queue.Node(value, self.tail.next)\n",
    "            self.tail = self.tail.next\n",
    "        else:\n",
    "            self.tail = Queue.Node(value)\n",
    "            self.tail.next = self.tail\n",
    "        assert self.tail and self.tail.next, f'invariant violation when after push({value})'\n",
    "\n",
    "    def pop(self):\n",
    "        head = self.tail.next\n",
    "        value = head.value\n",
    "        if head.next == head:\n",
    "            self.tail = None\n",
    "        else:\n",
    "            self.tail.next = head.next\n",
    "        return value\n",
    "\n",
    "    def is_empty(self):\n",
    "        return not bool(self.tail)\n",
    "\n",
    "    def __bool__(self):\n",
    "        return bool(self.tail)"
   ]
  },
  {
   "cell_type": "code",
   "execution_count": 134,
   "metadata": {},
   "outputs": [],
   "source": [
    "queue = Queue()\n",
    "for i in range(100000):\n",
    "    queue.push(i)\n",
    "\n",
    "count = 0\n",
    "while queue:\n",
    "    assert count == queue.pop()\n",
    "    count += 1"
   ]
  },
  {
   "cell_type": "code",
   "execution_count": 135,
   "metadata": {},
   "outputs": [],
   "source": [
    "class SimpleQueue:\n",
    "\n",
    "    def __init__(self):\n",
    "        self.data = []\n",
    "    \n",
    "    def push(self, value):\n",
    "        self.data.append(value)\n",
    "    \n",
    "    def pop(self):\n",
    "        return self.data.pop(0)\n",
    "\n",
    "    def is_empty(self):\n",
    "        return not bool(self.data)\n",
    "\n",
    "    def __bool__(self):\n",
    "        return bool(self.data)"
   ]
  },
  {
   "cell_type": "code",
   "execution_count": 158,
   "metadata": {},
   "outputs": [],
   "source": [
    "queue = SimpleQueue()\n",
    "for i in range(100000): # do NOT try 1000000 which takes more than 3 minutes\n",
    "    queue.push(i)\n",
    "\n",
    "count = 0\n",
    "while queue:\n",
    "    data = queue.pop()\n",
    "    assert count == data, f'{count} != {data}'\n",
    "    count += 1"
   ]
  },
  {
   "cell_type": "code",
   "execution_count": 159,
   "metadata": {},
   "outputs": [],
   "source": [
    "class BoundedQueue:\n",
    "    '''\n",
    "    Implemented using circular queue\n",
    "    '''\n",
    "\n",
    "    class Exception(Exception):\n",
    "        ''''''\n",
    "\n",
    "    def __init__(self, max_size):\n",
    "        self.max_size = max_size\n",
    "        self.size = 0\n",
    "        self.data = [0] * max_size\n",
    "        self.head = 0\n",
    "        self.tail = 0\n",
    "\n",
    "    def push(self, value):\n",
    "        if self.size >= self.max_size:\n",
    "            raise BoundedQueue.Exception('queue is full')\n",
    "        self.data[self.tail] = value\n",
    "        self.tail = (self.tail + 1) % self.max_size\n",
    "        self.size += 1\n",
    "\n",
    "    def pop(self):\n",
    "        if self.size <= 0:\n",
    "            raise BoundedQueue.Exception('queue is empty')\n",
    "        value = self.data[self.head]\n",
    "        self.head = (self.head + 1) % self.max_size\n",
    "        self.size -= 1\n",
    "        return value\n",
    "    \n",
    "    def __bool__(self):\n",
    "        return self.size != 0\n",
    "\n",
    "n = 1000000\n",
    "queue = BoundedQueue(n)\n",
    "for i in range(n):\n",
    "    queue.push(i)\n",
    "\n",
    "count = 0\n",
    "while queue:\n",
    "    assert count == queue.pop()\n",
    "    count += 1\n",
    "\n",
    "assert count == n"
   ]
  },
  {
   "cell_type": "code",
   "execution_count": 93,
   "metadata": {},
   "outputs": [],
   "source": [
    "def hanoi(n, x, y, z):\n",
    "    '''\n",
    "    T(n) = 2T(n - 1) + 1\n",
    "    T(n) = O(2^n)\n",
    "    '''\n",
    "    if n == 1:\n",
    "        print(f'move from {x} to {y}')\n",
    "        return\n",
    "    hanoi(n - 1, x, z, y)\n",
    "    hanoi(1, x, y, z)\n",
    "    hanoi(n - 1, z, y, x)"
   ]
  },
  {
   "cell_type": "code",
   "execution_count": 94,
   "metadata": {},
   "outputs": [
    {
     "name": "stdout",
     "output_type": "stream",
     "text": [
      "move from 0 to 1\n",
      "move from 0 to 2\n",
      "move from 1 to 2\n",
      "move from 0 to 1\n",
      "move from 2 to 0\n",
      "move from 2 to 1\n",
      "move from 0 to 1\n"
     ]
    }
   ],
   "source": [
    "hanoi(3, 0, 1, 2)"
   ]
  },
  {
   "cell_type": "code",
   "execution_count": 105,
   "metadata": {},
   "outputs": [
    {
     "name": "stdout",
     "output_type": "stream",
     "text": [
      "moving 1 from x to y\n",
      "moving 2 from x to z\n",
      "moving 1 from y to z\n",
      "moving 3 from x to y\n",
      "moving 1 from z to x\n",
      "moving 2 from z to y\n",
      "moving 1 from x to y\n"
     ]
    }
   ],
   "source": [
    "def hanoi(n):\n",
    "    x = list(range(n, 0, -1))\n",
    "    y = []\n",
    "    z = []\n",
    "    def hanoi_helper(n, x, y, z):\n",
    "        if n == 1:\n",
    "            v = x[1][-1]\n",
    "            print(f'moving {v} from {x[0]} to {y[0]}')\n",
    "            y[1].append(x[1].pop())\n",
    "        else:\n",
    "            hanoi_helper(n - 1, x, z, y)\n",
    "            hanoi_helper(1, x, y, z)\n",
    "            hanoi_helper(n - 1, z, y, x)\n",
    "\n",
    "    hanoi_helper(n, ['x', x], ['y', y], ['z', z])\n",
    "\n",
    "hanoi(3)"
   ]
  },
  {
   "cell_type": "code",
   "execution_count": 110,
   "metadata": {},
   "outputs": [
    {
     "name": "stdout",
     "output_type": "stream",
     "text": [
      "[1, 0, -1, 0]\n"
     ]
    }
   ],
   "source": [
    "i = complex(0, 1)\n",
    "print([int((i ** n).real) for n in range(4)])"
   ]
  },
  {
   "cell_type": "code",
   "execution_count": 113,
   "metadata": {},
   "outputs": [
    {
     "name": "stdout",
     "output_type": "stream",
     "text": [
      "0123456789ABCDEF\n"
     ]
    }
   ],
   "source": [
    "import ctypes\n",
    "\n",
    "buf = ctypes.create_string_buffer(256)\n",
    "buf[0:16] = b'0123456789ABCDEF'\n",
    "print(buf.value.decode())"
   ]
  },
  {
   "cell_type": "code",
   "execution_count": 115,
   "metadata": {},
   "outputs": [
    {
     "data": {
      "text/plain": [
       "'*****hello=========='"
      ]
     },
     "execution_count": 115,
     "metadata": {},
     "output_type": "execute_result"
    }
   ],
   "source": [
    "'hello'.rjust(10, '*').ljust(20, '=')"
   ]
  },
  {
   "cell_type": "code",
   "execution_count": 117,
   "metadata": {},
   "outputs": [
    {
     "data": {
      "text/plain": [
       "[0, 'a', 3, 4, 5]"
      ]
     },
     "execution_count": 117,
     "metadata": {},
     "output_type": "execute_result"
    }
   ],
   "source": [
    "data = [0,1,2,3,4,5]\n",
    "data[1:3] = ['a']\n",
    "data"
   ]
  },
  {
   "cell_type": "code",
   "execution_count": 118,
   "metadata": {},
   "outputs": [
    {
     "data": {
      "text/plain": [
       "(1, [2, 3, 4], 5)"
      ]
     },
     "execution_count": 118,
     "metadata": {},
     "output_type": "execute_result"
    }
   ],
   "source": [
    "t = (1, [2, 3], 5)\n",
    "t[1]\n",
    "t[1].append(4)\n",
    "t"
   ]
  },
  {
   "cell_type": "code",
   "execution_count": 127,
   "metadata": {},
   "outputs": [
    {
     "name": "stdout",
     "output_type": "stream",
     "text": [
      "{1, 2, 3, 4}\n",
      "False\n",
      "set()\n",
      "True\n",
      "True\n",
      "1\n",
      "2\n"
     ]
    }
   ],
   "source": [
    "a = {1, 2}\n",
    "b = {3, 4}\n",
    "print(a - b | b - a)\n",
    "print(a < b)\n",
    "print(a & b)\n",
    "print(set() < a)\n",
    "print(a <= a)\n",
    "while a:\n",
    "    print(a.pop())\n"
   ]
  },
  {
   "cell_type": "code",
   "execution_count": 138,
   "metadata": {},
   "outputs": [
    {
     "data": {
      "text/plain": [
       "512"
      ]
     },
     "execution_count": 138,
     "metadata": {},
     "output_type": "execute_result"
    }
   ],
   "source": [
    "2 ** 3 ** 3"
   ]
  },
  {
   "cell_type": "code",
   "execution_count": 139,
   "metadata": {},
   "outputs": [
    {
     "name": "stdout",
     "output_type": "stream",
     "text": [
      "\n",
      " |\n",
      " |\n",
      " |\n",
      " |\n",
      " |\n",
      "  ____\n",
      " |\n",
      " |\n",
      " |\n",
      " |\n",
      " |\n",
      "  ____\n",
      " |/\n",
      " |\n",
      " |\n",
      " |\n",
      "/|\\\n",
      "  ____\n",
      " |/   |\n",
      " |\n",
      " |\n",
      " |\n",
      "/|\\\n",
      "  ____\n",
      " |/   |\n",
      " |    o\n",
      " |   /|\\\n",
      " |   / \\\n",
      "/|\\\n"
     ]
    }
   ],
   "source": [
    "L = [\n",
    "    ['',   '  ____',  '  ____',  '  ____',  '  ____'],\n",
    "    [' |', ' |',      ' |/',     ' |/   |', ' |/   |'],\n",
    "    [' |', ' |',      ' |',      ' |',      ' |    o'],\n",
    "    [' |', ' |',      ' |',      ' |',      ' |   /|\\\\'],\n",
    "    [' |', ' |',      ' |',      ' |',      ' |   / \\\\'],\n",
    "    [' |', ' |',      '/|\\\\',    '/|\\\\',    '/|\\\\']\n",
    "    ]\n",
    "\n",
    "for i in range(5):\n",
    "    for l in range(6):\n",
    "        print(L[l][i])"
   ]
  },
  {
   "cell_type": "code",
   "execution_count": 147,
   "metadata": {},
   "outputs": [
    {
     "name": "stdout",
     "output_type": "stream",
     "text": [
      "0.10367514501558617\n",
      "0.07727600500220433\n",
      "0.040723928017541766\n",
      "0.011918575037270784\n"
     ]
    }
   ],
   "source": [
    "def list1(n):\n",
    "    data = []\n",
    "    for i in range(n):\n",
    "        data += [i]\n",
    "    return data\n",
    "\n",
    "def list2(n):\n",
    "    data = []\n",
    "    for i in range(n):\n",
    "        data.append(i)\n",
    "\n",
    "def list3(n):\n",
    "    return [i for i in range(n)]\n",
    "\n",
    "def list4(n):\n",
    "    return list(range(n))\n",
    "\n",
    "import timeit\n",
    "for i in range(1, 5):\n",
    "    print(timeit.Timer(f'list{i}(100)', f'from __main__ import list{i}').timeit(number=10000))"
   ]
  },
  {
   "cell_type": "code",
   "execution_count": 160,
   "metadata": {},
   "outputs": [],
   "source": [
    "class PriorityQueue:\n",
    "\n",
    "    def __init__(self):\n",
    "        pass\n",
    "\n",
    "    def push(self, key, value):\n",
    "        pass\n",
    "\n",
    "    def pop(self):\n",
    "        pass\n",
    "\n",
    "    def is_empty(self):\n",
    "        pass\n",
    "\n",
    "    def __bool__(self):\n",
    "        pass\n",
    "\n"
   ]
  },
  {
   "cell_type": "code",
   "execution_count": 162,
   "metadata": {},
   "outputs": [
    {
     "ename": "ModuleNotFoundError",
     "evalue": "No module named 'ipyvolume'",
     "output_type": "error",
     "traceback": [
      "\u001b[0;31m---------------------------------------------------------------------------\u001b[0m",
      "\u001b[0;31mModuleNotFoundError\u001b[0m                       Traceback (most recent call last)",
      "\u001b[0;32m/var/folders/rk/dm305b2d7fvc9wc4x2dkn6bw0000gn/T/ipykernel_87970/531082344.py\u001b[0m in \u001b[0;36m<module>\u001b[0;34m\u001b[0m\n\u001b[0;32m----> 1\u001b[0;31m \u001b[0;32mimport\u001b[0m \u001b[0mipyvolume\u001b[0m\u001b[0;34m.\u001b[0m\u001b[0mpylab\u001b[0m \u001b[0;32mas\u001b[0m \u001b[0mp3\u001b[0m\u001b[0;34m\u001b[0m\u001b[0;34m\u001b[0m\u001b[0m\n\u001b[0m\u001b[1;32m      2\u001b[0m \u001b[0;32mimport\u001b[0m \u001b[0mnumpy\u001b[0m \u001b[0;32mas\u001b[0m \u001b[0mnp\u001b[0m\u001b[0;34m\u001b[0m\u001b[0;34m\u001b[0m\u001b[0m\n\u001b[1;32m      3\u001b[0m \u001b[0;34m\u001b[0m\u001b[0m\n\u001b[1;32m      4\u001b[0m \u001b[0mfig\u001b[0m \u001b[0;34m=\u001b[0m \u001b[0mp3\u001b[0m\u001b[0;34m.\u001b[0m\u001b[0mfigure\u001b[0m\u001b[0;34m(\u001b[0m\u001b[0;34m)\u001b[0m\u001b[0;34m\u001b[0m\u001b[0;34m\u001b[0m\u001b[0m\n\u001b[1;32m      5\u001b[0m \u001b[0mq\u001b[0m \u001b[0;34m=\u001b[0m \u001b[0mp3\u001b[0m\u001b[0;34m.\u001b[0m\u001b[0mquiver\u001b[0m\u001b[0;34m(\u001b[0m\u001b[0;34m*\u001b[0m\u001b[0mstream\u001b[0m\u001b[0;34m.\u001b[0m\u001b[0mdata\u001b[0m\u001b[0;34m[\u001b[0m\u001b[0;34m:\u001b[0m\u001b[0;34m,\u001b[0m\u001b[0;36m0\u001b[0m\u001b[0;34m:\u001b[0m\u001b[0;36m50\u001b[0m\u001b[0;34m,\u001b[0m\u001b[0;34m:\u001b[0m\u001b[0;36m200\u001b[0m\u001b[0;34m]\u001b[0m\u001b[0;34m,\u001b[0m \u001b[0mcolor\u001b[0m\u001b[0;34m=\u001b[0m\u001b[0;34m\"red\"\u001b[0m\u001b[0;34m,\u001b[0m \u001b[0msize\u001b[0m\u001b[0;34m=\u001b[0m\u001b[0;36m7\u001b[0m\u001b[0;34m)\u001b[0m\u001b[0;34m\u001b[0m\u001b[0;34m\u001b[0m\u001b[0m\n",
      "\u001b[0;31mModuleNotFoundError\u001b[0m: No module named 'ipyvolume'"
     ]
    }
   ],
   "source": [
    "import ipyvolume.pylab as p3\n",
    "import numpy as np\n",
    "\n",
    "fig = p3.figure()\n",
    "q = p3.quiver(*stream.data[:,0:50,:200], color=\"red\", size=7)\n",
    "p3.style.use(\"dark\") # looks better\n",
    "p3.animation_control(q, interval=200)\n",
    "p3.show()"
   ]
  }
 ],
 "metadata": {
  "interpreter": {
   "hash": "b460384b52104c1e5b9cf54bee46a255d22b2bef338f75ac4ad5d48196028d3c"
  },
  "kernelspec": {
   "display_name": "Python 3.10.2 64-bit",
   "language": "python",
   "name": "python3"
  },
  "language_info": {
   "codemirror_mode": {
    "name": "ipython",
    "version": 3
   },
   "file_extension": ".py",
   "mimetype": "text/x-python",
   "name": "python",
   "nbconvert_exporter": "python",
   "pygments_lexer": "ipython3",
   "version": "3.10.2"
  },
  "orig_nbformat": 4
 },
 "nbformat": 4,
 "nbformat_minor": 2
}
