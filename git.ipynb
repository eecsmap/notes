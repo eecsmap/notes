{
 "cells": [
  {
   "cell_type": "markdown",
   "metadata": {},
   "source": [
    "# git\n",
    "\n",
    "把最近两次提交合并\n",
    "```\n",
    "git reset --soft \"HEAD^\"\n",
    "git commit --amend\n",
    "```\n"
   ]
  }
 ],
 "metadata": {
  "language_info": {
   "name": "python"
  },
  "orig_nbformat": 4
 },
 "nbformat": 4,
 "nbformat_minor": 2
}
