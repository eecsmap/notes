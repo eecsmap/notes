{
 "cells": [
  {
   "cell_type": "markdown",
   "metadata": {},
   "source": [
    "[主页](README.ipynb)\n",
    "\n",
    "# 笔记的主标题\n",
    "\n",
    "## 链接\n",
    "- 绝对路径的[链接](https://github.com/eecsmap/notes)\n",
    "- 相对路径的[链接](README.ipynb)\n",
    "\n",
    "## Latex\n",
    "- 来一个公式 $$c = \\sqrt{a^2 + b^2}$$\n",
    "- 再来一个公式 $$e^{i\\pi} + 1 = 0$$, 参考[维基百科](https://en.wikipedia.org/wiki/Euler's_formula)\n",
    "\n"
   ]
  },
  {
   "cell_type": "code",
   "execution_count": null,
   "metadata": {},
   "outputs": [],
   "source": []
  }
 ],
 "metadata": {
  "interpreter": {
   "hash": "b460384b52104c1e5b9cf54bee46a255d22b2bef338f75ac4ad5d48196028d3c"
  },
  "kernelspec": {
   "display_name": "Python 3.10.0 64-bit",
   "language": "python",
   "name": "python3"
  },
  "language_info": {
   "name": "python",
   "version": "3.10.2"
  },
  "orig_nbformat": 4
 },
 "nbformat": 4,
 "nbformat_minor": 2
}
