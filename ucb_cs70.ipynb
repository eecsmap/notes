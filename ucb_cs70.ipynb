{
 "cells": [
  {
   "cell_type": "markdown",
   "metadata": {},
   "source": [
    "# UCB CS70 - Discrete Mathematics and Probability Theory\n",
    "\n",
    "## Stable Matching Conclusions\n",
    "- Everyday there is at least one rejection.\n",
    "- It is impossible that every man gets matched with the least preferrable woman in his list.\n",
    "- "
   ]
  }
 ],
 "metadata": {
  "language_info": {
   "name": "python"
  },
  "orig_nbformat": 4
 },
 "nbformat": 4,
 "nbformat_minor": 2
}
